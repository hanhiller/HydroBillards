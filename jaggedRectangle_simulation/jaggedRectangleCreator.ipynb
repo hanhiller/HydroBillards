{
 "cells": [
  {
   "cell_type": "code",
   "execution_count": 2,
   "metadata": {
    "collapsed": true
   },
   "outputs": [],
   "source": [
    "import numpy as np\n",
    "import matplotlib.pyplot as plt\n",
    "from IPython import display\n",
    "\n",
    "from scipy.optimize import least_squares"
   ]
  },
  {
   "cell_type": "code",
   "execution_count": 72,
   "metadata": {},
   "outputs": [],
   "source": [
    "width = 4 #width from the inside of jagged edge \n",
    "Length = 20\n",
    "N_corners = 20 # number of corners of jagged edge\n",
    "diffusive_edges = False\n",
    "\n",
    "borderX = np.zeros(5)\n",
    "borderY = np.zeros(5)\n",
    "edgeStyle = np.zeros(4) #'source': 2,'drain': 1,'mirror': 0,'rough': -1\n",
    "\n",
    "_L2 = Length/2.\n",
    "_w2 = width/2.\n",
    "\n",
    "borderX = np.array([-1])*_L2\n",
    "borderY = np.array([-1])*_w2\n",
    "\n",
    "#make top jagged edge\n",
    "_tmpX = np.linspace(-_L2,_L2,N_corners*2+1)\n",
    "_tmpY = np.zeros(N_corners*2+1) + _w2\n",
    "_tmpY[1::2] += Length/N_corners/2.\n",
    "borderX = np.append(borderX,_tmpX)\n",
    "borderY = np.append(borderY,_tmpY)\n",
    "#make bottom jagged edge\n",
    "borderX = np.append(borderX,_tmpX[::-1])\n",
    "borderY = np.append(borderY,-_tmpY[::-1])\n",
    "#define edge properties\n",
    "edgeStyle = np.array([2])\n",
    "edgeStyle = np.append(edgeStyle,np.zeros(N_corners*2))\n",
    "edgeStyle = np.append(edgeStyle,np.array([1]))\n",
    "edgeStyle = np.append(edgeStyle,np.zeros(N_corners*2))\n",
    "if diffusive_edges:\n",
    "    edgeStyle[edgeStyle==0] = -1\n",
    "\n",
    "#set the limits for coarse-grained 2D histogram\n",
    "_w2a =_w2 + Length/N_corners/2.\n",
    "boxRange = [[-_L2,_L2],\n",
    "            [-_w2a,_w2a]]"
   ]
  },
  {
   "cell_type": "code",
   "execution_count": 73,
   "metadata": {},
   "outputs": [
    {
     "data": {
      "image/png": "[encoded data removed]",
      "text/plain": [
       "<matplotlib.figure.Figure at 0x27a34fd2828>"
      ]
     },
     "metadata": {},
     "output_type": "display_data"
    }
   ],
   "source": [
    "fig = plt.figure(figsize = (15,5))\n",
    "_colors = ['b','k','r','y'] # red is source, black is drain, blue is specular edges, yellow is diffusive edges\n",
    "\n",
    "for ind,style in enumerate(edgeStyle):\n",
    "    plt.plot(borderX[ind:ind+2],borderY[ind:ind+2],_colors[int(style)])\n",
    "plt.axis('equal')\n",
    "plt.show()\n",
    "#plt.cla()"
   ]
  },
  {
   "cell_type": "code",
   "execution_count": 38,
   "metadata": {
    "collapsed": true
   },
   "outputs": [],
   "source": [
    "np.savez('J3_rectangle_4x20um.npz', borderX=borderX, \n",
    "         borderY=borderY, edgeStyle=edgeStyle, boxRange=boxRange)"
   ]
  }
 ],
 "metadata": {
  "hide_input": false,
  "kernelspec": {
   "display_name": "Python 3",
   "language": "python",
   "name": "python3"
  },
  "language_info": {
   "codemirror_mode": {
    "name": "ipython",
    "version": 3
   },
   "file_extension": ".py",
   "mimetype": "text/x-python",
   "name": "python",
   "nbconvert_exporter": "python",
   "pygments_lexer": "ipython3",
   "version": "3.6.3"
  },
  "toc": {
   "nav_menu": {},
   "number_sections": true,
   "sideBar": true,
   "skip_h1_title": true,
   "toc_cell": false,
   "toc_position": {},
   "toc_section_display": "block",
   "toc_window_display": false
  }
 },
 "nbformat": 4,
 "nbformat_minor": 2
}
